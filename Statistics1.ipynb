{
  "nbformat": 4,
  "nbformat_minor": 0,
  "metadata": {
    "colab": {
      "name": "Statistics1.ipynb",
      "provenance": [],
      "collapsed_sections": [],
      "authorship_tag": "ABX9TyN9JFxF1JldvEoX/5ruzIKA",
      "include_colab_link": true
    },
    "kernelspec": {
      "name": "python3",
      "display_name": "Python 3"
    },
    "language_info": {
      "name": "python"
    }
  },
  "cells": [
    {
      "cell_type": "markdown",
      "metadata": {
        "id": "view-in-github",
        "colab_type": "text"
      },
      "source": [
        "<a href=\"https://colab.research.google.com/github/Sukrut11/Introduction-to-Statistics--Part-1/blob/main/Statistics1.ipynb\" target=\"_parent\"><img src=\"https://colab.research.google.com/assets/colab-badge.svg\" alt=\"Open In Colab\"/></a>"
      ]
    },
    {
      "cell_type": "markdown",
      "source": [
        "# **Introduction to Statistics- Part 1**"
      ],
      "metadata": {
        "id": "voByoEtK1XY-"
      }
    },
    {
      "cell_type": "markdown",
      "source": [
        "We have imported numpy because it is special for computational mathematics. Using numpy we can find out the mean and median of the array of numbers. But sadly we cannot find out the mode.\n",
        "\n",
        "So in order to find out the mode we have to import statistics as it provides tools which helps us in extracting information from data using fundamentals of statistics."
      ],
      "metadata": {
        "id": "h7Rcid4iziDg"
      }
    },
    {
      "cell_type": "code",
      "execution_count": 36,
      "metadata": {
        "id": "4EeXWs5oKYY5"
      },
      "outputs": [],
      "source": [
        "import numpy as np\n",
        "import statistics"
      ]
    },
    {
      "cell_type": "markdown",
      "source": [
        "We want to create an area of integers. We can create an array using numpy. But I don't want to to manually type all the numbers one by one into the array. For that I am going to use arange function, which will help me in creating an array from start to end with a fixed differencebetween the numbers. Here I have created an array which will start from the integers hero and it will end at integer (n-1) position that is 10 .\n",
        "The difference could be of value 1. That is numbers with difference of one will be fed '**sequentially**' into the array."
      ],
      "metadata": {
        "id": "Qi2IvJtF0R-n"
      }
    },
    {
      "cell_type": "code",
      "source": [
        "x= np.arange(0,11,1)"
      ],
      "metadata": {
        "id": "OB0loEksMMdD"
      },
      "execution_count": 37,
      "outputs": []
    },
    {
      "cell_type": "code",
      "source": [
        "x"
      ],
      "metadata": {
        "colab": {
          "base_uri": "https://localhost:8080/"
        },
        "id": "riXgsEqJxN_z",
        "outputId": "3e5141f2-598c-45ce-8d6b-db2c22ef983c"
      },
      "execution_count": 38,
      "outputs": [
        {
          "output_type": "execute_result",
          "data": {
            "text/plain": [
              "array([ 0,  1,  2,  3,  4,  5,  6,  7,  8,  9, 10])"
            ]
          },
          "metadata": {},
          "execution_count": 38
        }
      ]
    },
    {
      "cell_type": "markdown",
      "source": [
        "Now I want to find out  the mean and median of this array. I could find it by using the mean and  median function from numpy. By using the function we can understand that the mean and median of the array is 5.\n",
        "\n",
        "Now question will arise that why the mean and median are same. Are there always same? Well no, the difference between each number in the array is constant that is one, and the values are arranged in an ascending order that's why in this particular case both the mean and median are same."
      ],
      "metadata": {
        "id": "Ya5QJRyj0vpm"
      }
    },
    {
      "cell_type": "code",
      "source": [
        "np.mean(x)"
      ],
      "metadata": {
        "colab": {
          "base_uri": "https://localhost:8080/"
        },
        "id": "y-oHox_yMcCU",
        "outputId": "db580d50-f35f-4abb-a1d2-fb606c1ee677"
      },
      "execution_count": 39,
      "outputs": [
        {
          "output_type": "execute_result",
          "data": {
            "text/plain": [
              "5.0"
            ]
          },
          "metadata": {},
          "execution_count": 39
        }
      ]
    },
    {
      "cell_type": "code",
      "source": [
        "np.median(x)"
      ],
      "metadata": {
        "colab": {
          "base_uri": "https://localhost:8080/"
        },
        "id": "-3zbys6LMcqs",
        "outputId": "1a7f4746-26a7-430c-94d0-83473faf2a2f"
      },
      "execution_count": 40,
      "outputs": [
        {
          "output_type": "execute_result",
          "data": {
            "text/plain": [
              "5.0"
            ]
          },
          "metadata": {},
          "execution_count": 40
        }
      ]
    },
    {
      "cell_type": "markdown",
      "source": [
        "We're going to to define a list with an varying difference between the integers. Now using the statistics library we are going to find the mean median and mode of the list."
      ],
      "metadata": {
        "id": "q0AOvyo208Mn"
      }
    },
    {
      "cell_type": "code",
      "source": [
        "x= [1,2,3,4,1,23,4,1,23,323,4,4,5]"
      ],
      "metadata": {
        "id": "6Tg2aQduM8wv"
      },
      "execution_count": 41,
      "outputs": []
    },
    {
      "cell_type": "code",
      "source": [
        "statistics.mean(x)"
      ],
      "metadata": {
        "colab": {
          "base_uri": "https://localhost:8080/"
        },
        "id": "uZiYGCyPPa6N",
        "outputId": "4139b7c7-412f-457c-eb03-ea8c79397ed4"
      },
      "execution_count": 42,
      "outputs": [
        {
          "output_type": "execute_result",
          "data": {
            "text/plain": [
              "30.615384615384617"
            ]
          },
          "metadata": {},
          "execution_count": 42
        }
      ]
    },
    {
      "cell_type": "code",
      "source": [
        "statistics.median(x)"
      ],
      "metadata": {
        "colab": {
          "base_uri": "https://localhost:8080/"
        },
        "id": "99Rfy_8LQT6V",
        "outputId": "754c6dac-654d-47e8-ab88-adaed67fd7f7"
      },
      "execution_count": 43,
      "outputs": [
        {
          "output_type": "execute_result",
          "data": {
            "text/plain": [
              "4"
            ]
          },
          "metadata": {},
          "execution_count": 43
        }
      ]
    },
    {
      "cell_type": "code",
      "source": [
        "statistics.mode(x)"
      ],
      "metadata": {
        "id": "SoDaOKeDQZC0",
        "colab": {
          "base_uri": "https://localhost:8080/"
        },
        "outputId": "0c4abd54-9fbf-44a6-9a29-06219213a5da"
      },
      "execution_count": 44,
      "outputs": [
        {
          "output_type": "execute_result",
          "data": {
            "text/plain": [
              "4"
            ]
          },
          "metadata": {},
          "execution_count": 44
        }
      ]
    },
    {
      "cell_type": "markdown",
      "source": [
        "Using the specific functions we can find out the mean (average) of the list is 30, the median (central value) of the list is 4 and the the number repeated the most in the list ie. the mode is also 4.\n",
        "\n",
        "Conclusion- We have learned to calculate the mean, median and mode of array using numpy and statistics library in python."
      ],
      "metadata": {
        "id": "4XNbCnxt1BPe"
      }
    }
  ]
}